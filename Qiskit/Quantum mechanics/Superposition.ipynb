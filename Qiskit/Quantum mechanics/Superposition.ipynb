{
 "cells": [
  {
   "cell_type": "code",
   "execution_count": 27,
   "id": "4086ceaa-a36e-41e3-96b4-93f5ae00f3ec",
   "metadata": {},
   "outputs": [
    {
     "name": "stdout",
     "output_type": "stream",
     "text": [
      "Measurement counts: {'11': 528, '00': 472}\n"
     ]
    }
   ],
   "source": [
    "from qiskit import QuantumCircuit, transpile\n",
    "from qiskit_aer import AerSimulator\n",
    "from qiskit.visualization import plot_histogram\n",
    "import matplotlib.pyplot as plt\n",
    "\n",
    "# Step 1: create a Bell state circuit\n",
    "qc = QuantumCircuit(2, 2)\n",
    "qc.h(0)\n",
    "qc.cx(0, 1)\n",
    "qc.measure([0, 1], [0, 1])\n",
    "\n",
    "# Step 2: use local AerSimulator\n",
    "sim = AerSimulator()\n",
    "\n",
    "# Step 3: transpile + run\n",
    "compiled = transpile(qc, sim)\n",
    "job = sim.run(compiled, shots=1000)\n",
    "result = job.result()\n",
    "\n",
    "# Step 4: get results\n",
    "counts = result.get_counts()\n",
    "print(\"Measurement counts:\", counts)\n",
    "\n",
    "# Step 5: plot histogram\n",
    "plot_histogram(counts)\n",
    "plt.show()\n",
    "\n"
   ]
  },
  {
   "cell_type": "code",
   "execution_count": null,
   "id": "7f3f91dc-6a1b-4aa8-b420-ac7c135dda98",
   "metadata": {},
   "outputs": [],
   "source": [
    "qcoin_0 = QuantumCircuit(1)\n",
    "qcoin_0.h(0)\n",
    "qcoin_0.h(0)\n",
    "qcoin_0.measure_all()\n",
    " \n",
    "qcoin_0.draw(\"mpl\")"
   ]
  },
  {
   "cell_type": "code",
   "execution_count": null,
   "id": "db8118a8-5a82-415e-aa52-a27cb90aa668",
   "metadata": {},
   "outputs": [],
   "source": [
    "\n",
    "target = backend.target\n",
    "pm = generate_preset_pass_manager(target=target, optimization_level=3)\n",
    " \n",
    "qc_isa = pm.run(qcoin_0)\n",
    "sampler = Sampler(mode=backend)\n",
    "pubs = [qc_isa]\n",
    "job = sampler.run(pubs, shots=1000)\n",
    "res = job.result()\n",
    " \n",
    "counts = res[0].data.meas.get_counts()\n",
    "plot_histogram(counts)"
   ]
  },
  {
   "cell_type": "code",
   "execution_count": null,
   "id": "ba8afefb-f545-4ce6-b475-199222e51555",
   "metadata": {},
   "outputs": [],
   "source": []
  }
 ],
 "metadata": {
  "kernelspec": {
   "display_name": "Python 3 (ipykernel)",
   "language": "python",
   "name": "python3"
  },
  "language_info": {
   "codemirror_mode": {
    "name": "ipython",
    "version": 3
   },
   "file_extension": ".py",
   "mimetype": "text/x-python",
   "name": "python",
   "nbconvert_exporter": "python",
   "pygments_lexer": "ipython3",
   "version": "3.13.5"
  }
 },
 "nbformat": 4,
 "nbformat_minor": 5
}
