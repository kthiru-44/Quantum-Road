{
 "cells": [
  {
   "cell_type": "code",
   "execution_count": 3,
   "id": "370904a1-56a2-44f1-8313-e1d3a51a6db6",
   "metadata": {},
   "outputs": [
    {
     "name": "stdout",
     "output_type": "stream",
     "text": [
      "Requirement already satisfied: qiskit in c:\\users\\kathir\\anaconda3\\lib\\site-packages (2.1.1)\n",
      "Requirement already satisfied: rustworkx>=0.15.0 in c:\\users\\kathir\\anaconda3\\lib\\site-packages (from qiskit) (0.17.1)\n",
      "Requirement already satisfied: numpy<3,>=1.17 in c:\\users\\kathir\\anaconda3\\lib\\site-packages (from qiskit) (2.1.3)\n",
      "Requirement already satisfied: scipy>=1.5 in c:\\users\\kathir\\anaconda3\\lib\\site-packages (from qiskit) (1.15.3)\n",
      "Requirement already satisfied: dill>=0.3 in c:\\users\\kathir\\anaconda3\\lib\\site-packages (from qiskit) (0.3.8)\n",
      "Requirement already satisfied: stevedore>=3.0.0 in c:\\users\\kathir\\anaconda3\\lib\\site-packages (from qiskit) (5.4.1)\n",
      "Requirement already satisfied: typing-extensions in c:\\users\\kathir\\anaconda3\\lib\\site-packages (from qiskit) (4.12.2)\n",
      "Requirement already satisfied: pbr>=2.0.0 in c:\\users\\kathir\\anaconda3\\lib\\site-packages (from stevedore>=3.0.0->qiskit) (7.0.0)\n",
      "Requirement already satisfied: setuptools in c:\\users\\kathir\\anaconda3\\lib\\site-packages (from pbr>=2.0.0->stevedore>=3.0.0->qiskit) (72.1.0)\n",
      "Note: you may need to restart the kernel to use updated packages.\n"
     ]
    }
   ],
   "source": [
    "pip install qiskit\n"
   ]
  },
  {
   "cell_type": "code",
   "execution_count": 5,
   "id": "8d38ec46-1e7d-46c0-bae9-a1aed65069cb",
   "metadata": {},
   "outputs": [
    {
     "name": "stdout",
     "output_type": "stream",
     "text": [
      "Collecting qiskit-aer\n",
      "  Using cached qiskit_aer-0.17.1-cp313-cp313-win_amd64.whl.metadata (8.5 kB)\n",
      "Requirement already satisfied: qiskit>=1.1.0 in c:\\users\\kathir\\anaconda3\\lib\\site-packages (from qiskit-aer) (2.1.1)\n",
      "Requirement already satisfied: numpy>=1.16.3 in c:\\users\\kathir\\anaconda3\\lib\\site-packages (from qiskit-aer) (2.1.3)\n",
      "Requirement already satisfied: scipy>=1.0 in c:\\users\\kathir\\anaconda3\\lib\\site-packages (from qiskit-aer) (1.15.3)\n",
      "Requirement already satisfied: psutil>=5 in c:\\users\\kathir\\anaconda3\\lib\\site-packages (from qiskit-aer) (5.9.0)\n",
      "Requirement already satisfied: python-dateutil>=2.8.0 in c:\\users\\kathir\\anaconda3\\lib\\site-packages (from qiskit-aer) (2.9.0.post0)\n",
      "Requirement already satisfied: six>=1.5 in c:\\users\\kathir\\anaconda3\\lib\\site-packages (from python-dateutil>=2.8.0->qiskit-aer) (1.17.0)\n",
      "Requirement already satisfied: rustworkx>=0.15.0 in c:\\users\\kathir\\anaconda3\\lib\\site-packages (from qiskit>=1.1.0->qiskit-aer) (0.17.1)\n",
      "Requirement already satisfied: dill>=0.3 in c:\\users\\kathir\\anaconda3\\lib\\site-packages (from qiskit>=1.1.0->qiskit-aer) (0.3.8)\n",
      "Requirement already satisfied: stevedore>=3.0.0 in c:\\users\\kathir\\anaconda3\\lib\\site-packages (from qiskit>=1.1.0->qiskit-aer) (5.4.1)\n",
      "Requirement already satisfied: typing-extensions in c:\\users\\kathir\\anaconda3\\lib\\site-packages (from qiskit>=1.1.0->qiskit-aer) (4.12.2)\n",
      "Requirement already satisfied: pbr>=2.0.0 in c:\\users\\kathir\\anaconda3\\lib\\site-packages (from stevedore>=3.0.0->qiskit>=1.1.0->qiskit-aer) (7.0.0)\n",
      "Requirement already satisfied: setuptools in c:\\users\\kathir\\anaconda3\\lib\\site-packages (from pbr>=2.0.0->stevedore>=3.0.0->qiskit>=1.1.0->qiskit-aer) (72.1.0)\n",
      "Using cached qiskit_aer-0.17.1-cp313-cp313-win_amd64.whl (9.5 MB)\n",
      "Installing collected packages: qiskit-aer\n",
      "Successfully installed qiskit-aer-0.17.1\n",
      "Note: you may need to restart the kernel to use updated packages.\n"
     ]
    }
   ],
   "source": [
    "pip install qiskit-aer"
   ]
  },
  {
   "cell_type": "code",
   "execution_count": 6,
   "id": "cd2c7f7c-4ba4-4251-ab65-3178756e0a61",
   "metadata": {},
   "outputs": [
    {
     "name": "stdout",
     "output_type": "stream",
     "text": [
      "Note: you may need to restart the kernel to use updated packages.\n"
     ]
    },
    {
     "name": "stderr",
     "output_type": "stream",
     "text": [
      "ERROR: Could not find a version that satisfies the requirement qiskit.visualization (from versions: none)\n",
      "ERROR: No matching distribution found for qiskit.visualization\n"
     ]
    }
   ],
   "source": [
    "pip install qiskit.visualization"
   ]
  },
  {
   "cell_type": "code",
   "execution_count": 7,
   "id": "3588633e-0285-46bf-bf36-05305395810d",
   "metadata": {},
   "outputs": [
    {
     "name": "stdout",
     "output_type": "stream",
     "text": [
      "Requirement already satisfied: qiskit[visualization] in c:\\users\\kathir\\anaconda3\\lib\\site-packages (2.1.1)\n",
      "Requirement already satisfied: rustworkx>=0.15.0 in c:\\users\\kathir\\anaconda3\\lib\\site-packages (from qiskit[visualization]) (0.17.1)\n",
      "Requirement already satisfied: numpy<3,>=1.17 in c:\\users\\kathir\\anaconda3\\lib\\site-packages (from qiskit[visualization]) (2.1.3)\n",
      "Requirement already satisfied: scipy>=1.5 in c:\\users\\kathir\\anaconda3\\lib\\site-packages (from qiskit[visualization]) (1.15.3)\n",
      "Requirement already satisfied: dill>=0.3 in c:\\users\\kathir\\anaconda3\\lib\\site-packages (from qiskit[visualization]) (0.3.8)\n",
      "Requirement already satisfied: stevedore>=3.0.0 in c:\\users\\kathir\\anaconda3\\lib\\site-packages (from qiskit[visualization]) (5.4.1)\n",
      "Requirement already satisfied: typing-extensions in c:\\users\\kathir\\anaconda3\\lib\\site-packages (from qiskit[visualization]) (4.12.2)\n",
      "Requirement already satisfied: matplotlib>=3.3 in c:\\users\\kathir\\anaconda3\\lib\\site-packages (from qiskit[visualization]) (3.10.0)\n",
      "Collecting pydot (from qiskit[visualization])\n",
      "  Using cached pydot-4.0.1-py3-none-any.whl.metadata (11 kB)\n",
      "Requirement already satisfied: Pillow>=4.2.1 in c:\\users\\kathir\\anaconda3\\lib\\site-packages (from qiskit[visualization]) (11.1.0)\n",
      "Collecting pylatexenc>=1.4 (from qiskit[visualization])\n",
      "  Using cached pylatexenc-2.10-py3-none-any.whl\n",
      "Requirement already satisfied: seaborn>=0.9.0 in c:\\users\\kathir\\anaconda3\\lib\\site-packages (from qiskit[visualization]) (0.13.2)\n",
      "Requirement already satisfied: sympy>=1.3 in c:\\users\\kathir\\anaconda3\\lib\\site-packages (from qiskit[visualization]) (1.13.3)\n",
      "Requirement already satisfied: contourpy>=1.0.1 in c:\\users\\kathir\\anaconda3\\lib\\site-packages (from matplotlib>=3.3->qiskit[visualization]) (1.3.1)\n",
      "Requirement already satisfied: cycler>=0.10 in c:\\users\\kathir\\anaconda3\\lib\\site-packages (from matplotlib>=3.3->qiskit[visualization]) (0.11.0)\n",
      "Requirement already satisfied: fonttools>=4.22.0 in c:\\users\\kathir\\anaconda3\\lib\\site-packages (from matplotlib>=3.3->qiskit[visualization]) (4.55.3)\n",
      "Requirement already satisfied: kiwisolver>=1.3.1 in c:\\users\\kathir\\anaconda3\\lib\\site-packages (from matplotlib>=3.3->qiskit[visualization]) (1.4.8)\n",
      "Requirement already satisfied: packaging>=20.0 in c:\\users\\kathir\\anaconda3\\lib\\site-packages (from matplotlib>=3.3->qiskit[visualization]) (24.2)\n",
      "Requirement already satisfied: pyparsing>=2.3.1 in c:\\users\\kathir\\anaconda3\\lib\\site-packages (from matplotlib>=3.3->qiskit[visualization]) (3.2.0)\n",
      "Requirement already satisfied: python-dateutil>=2.7 in c:\\users\\kathir\\anaconda3\\lib\\site-packages (from matplotlib>=3.3->qiskit[visualization]) (2.9.0.post0)\n",
      "Requirement already satisfied: six>=1.5 in c:\\users\\kathir\\anaconda3\\lib\\site-packages (from python-dateutil>=2.7->matplotlib>=3.3->qiskit[visualization]) (1.17.0)\n",
      "Requirement already satisfied: pandas>=1.2 in c:\\users\\kathir\\anaconda3\\lib\\site-packages (from seaborn>=0.9.0->qiskit[visualization]) (2.2.3)\n",
      "Requirement already satisfied: pytz>=2020.1 in c:\\users\\kathir\\anaconda3\\lib\\site-packages (from pandas>=1.2->seaborn>=0.9.0->qiskit[visualization]) (2024.1)\n",
      "Requirement already satisfied: tzdata>=2022.7 in c:\\users\\kathir\\anaconda3\\lib\\site-packages (from pandas>=1.2->seaborn>=0.9.0->qiskit[visualization]) (2025.2)\n",
      "Requirement already satisfied: pbr>=2.0.0 in c:\\users\\kathir\\anaconda3\\lib\\site-packages (from stevedore>=3.0.0->qiskit[visualization]) (7.0.0)\n",
      "Requirement already satisfied: setuptools in c:\\users\\kathir\\anaconda3\\lib\\site-packages (from pbr>=2.0.0->stevedore>=3.0.0->qiskit[visualization]) (72.1.0)\n",
      "Requirement already satisfied: mpmath<1.4,>=1.1.0 in c:\\users\\kathir\\anaconda3\\lib\\site-packages (from sympy>=1.3->qiskit[visualization]) (1.3.0)\n",
      "Using cached pydot-4.0.1-py3-none-any.whl (37 kB)\n",
      "Installing collected packages: pylatexenc, pydot\n",
      "\n",
      "   -------------------- ------------------- 1/2 [pydot]\n",
      "   ---------------------------------------- 2/2 [pydot]\n",
      "\n",
      "Successfully installed pydot-4.0.1 pylatexenc-2.10\n",
      "Note: you may need to restart the kernel to use updated packages.\n"
     ]
    }
   ],
   "source": [
    "pip install qiskit[visualization]"
   ]
  },
  {
   "cell_type": "code",
   "execution_count": 1,
   "id": "f5314415-9082-469c-8c80-5e4df2cbfb6f",
   "metadata": {},
   "outputs": [
    {
     "data": {
      "image/png": "[encoded data removed]",
      "text/plain": [
       "<Figure size 413.165x200.667 with 1 Axes>"
      ]
     },
     "execution_count": 1,
     "metadata": {},
     "output_type": "execute_result"
    }
   ],
   "source": [
    "from qiskit import QuantumCircuit\n",
    " \n",
    "qcoin = QuantumCircuit(1)\n",
    "qcoin.h(0)\n",
    "qcoin.measure_all()\n",
    " \n",
    "qcoin.draw(\"mpl\")\n"
   ]
  },
  {
   "cell_type": "code",
   "execution_count": null,
   "id": "842c59d3-52c7-48ad-b461-c2cf58542eaf",
   "metadata": {},
   "outputs": [],
   "source": []
  }
 ],
 "metadata": {
  "kernelspec": {
   "display_name": "Python 3 (ipykernel)",
   "language": "python",
   "name": "python3"
  },
  "language_info": {
   "codemirror_mode": {
    "name": "ipython",
    "version": 3
   },
   "file_extension": ".py",
   "mimetype": "text/x-python",
   "name": "python",
   "nbconvert_exporter": "python",
   "pygments_lexer": "ipython3",
   "version": "3.13.5"
  }
 },
 "nbformat": 4,
 "nbformat_minor": 5
}
